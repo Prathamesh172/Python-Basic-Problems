{
 "cells": [
  {
   "cell_type": "code",
   "execution_count": 10,
   "id": "60e2f7d8",
   "metadata": {},
   "outputs": [
    {
     "name": "stdout",
     "output_type": "stream",
     "text": [
      "Enter the first number : 53\n",
      "Enter the second number : 3\n",
      "Enter the third number : 4\n",
      "The largest of the three numbers is 53\n"
     ]
    }
   ],
   "source": [
    "# Python Program to print the largest of the three numbers\n",
    "\n",
    "a = int(input('Enter the first number : '))\n",
    "b = int(input('Enter the second number : '))\n",
    "c = int(input('Enter the third number : '))\n",
    "print(f\"The largest of the three numbers is {max(a,b,c)}\")"
   ]
  },
  {
   "cell_type": "code",
   "execution_count": null,
   "id": "efe2bbed",
   "metadata": {},
   "outputs": [],
   "source": [
    "# Program to check whether a person is eligible to vote or not\n",
    "\n",
    "age = int(input('Enter your age : '))\n",
    "if age > 18:\n",
    "    print('You are eligible to vote')\n",
    "else:\n",
    "    print('You cannot vote')"
   ]
  },
  {
   "cell_type": "code",
   "execution_count": 3,
   "id": "65675597",
   "metadata": {},
   "outputs": [
    {
     "name": "stdout",
     "output_type": "stream",
     "text": [
      "Enter the number: 3\n",
      "3 is an odd number\n"
     ]
    }
   ],
   "source": [
    "# Program to check whether a number is even or not\n",
    "\n",
    "n = int(input('Enter the number: '))\n",
    "if n%2==0:\n",
    "    print(n, \"is an even number\")\n",
    "else:\n",
    "    print(n, \"is an odd number\")"
   ]
  },
  {
   "cell_type": "code",
   "execution_count": 6,
   "id": "d03dfff7",
   "metadata": {},
   "outputs": [
    {
     "name": "stdout",
     "output_type": "stream",
     "text": [
      "Enter your marks: 54\n",
      "Your grade is E\n"
     ]
    }
   ],
   "source": [
    "# Python Program for knowing marks out of 100 with their respective grades\n",
    "\n",
    "m = float(input(\"Enter your marks: \"))\n",
    "if m <= 40:\n",
    "    print(\"Your grade is F\")\n",
    "elif m <= 60:\n",
    "    print(\"Your grade is E\")\n",
    "elif m <= 70:\n",
    "    print(\"Your grade is D\")\n",
    "elif m <= 80:\n",
    "    print(\"Your grade is C\")\n",
    "elif m <= 90:\n",
    "    print(\"Your grade is B\")\n",
    "else:\n",
    "    print(\"Your grade is A\")"
   ]
  },
  {
   "cell_type": "code",
   "execution_count": 7,
   "id": "d6fd761b",
   "metadata": {},
   "outputs": [
    {
     "name": "stdout",
     "output_type": "stream",
     "text": [
      "Enter the first number : 2\n",
      "Enter the second number : 4\n",
      "4 is greater than 2\n"
     ]
    }
   ],
   "source": [
    "# Python Program to know whether a number is smaller or greater than inputed number\n",
    "\n",
    "n1 = int(input(\"Enter the first number : \"))\n",
    "n2 = int(input(\"Enter the second number : \"))\n",
    "if n1 > n2:\n",
    "    print(n1,\"is greater than\",n2)\n",
    "else:\n",
    "    print(n2,\"is greater than\",n1)"
   ]
  },
  {
   "cell_type": "code",
   "execution_count": 8,
   "id": "482c1799",
   "metadata": {},
   "outputs": [
    {
     "name": "stdout",
     "output_type": "stream",
     "text": [
      "Enter the first number : 5\n",
      "Enter the second number : 6\n",
      "The largest number of the two is 6\n"
     ]
    }
   ],
   "source": [
    "# Python Program to compare two number and find the largest\n",
    "\n",
    "n1 = int(input(\"Enter the first number : \"))\n",
    "n2 = int(input(\"Enter the second number : \"))\n",
    "print(f\"The largest number of the two is {max(n1,n2)}\")"
   ]
  },
  {
   "cell_type": "code",
   "execution_count": 9,
   "id": "7e7c364c",
   "metadata": {},
   "outputs": [
    {
     "name": "stdout",
     "output_type": "stream",
     "text": [
      "Enter the number : 32\n",
      "32 is an even number\n"
     ]
    }
   ],
   "source": [
    "# Python Program to check whether a number is odd or even\n",
    "\n",
    "n = int(input('Enter the number : '))\n",
    "if n%2==0:\n",
    "    print(n,\"is an even number\")\n",
    "else:\n",
    "    print(n,\"is an odd number\")"
   ]
  },
  {
   "cell_type": "code",
   "execution_count": 7,
   "id": "b848b400",
   "metadata": {},
   "outputs": [
    {
     "name": "stdout",
     "output_type": "stream",
     "text": [
      "Enter the number : 5\n"
     ]
    }
   ],
   "source": [
    "# Python Program to find a given number is divisible by 2 and 3 both or by 2 or by 3\n",
    "\n",
    "n = int(input('Enter the number : '))\n",
    "if n%2 == 0 and n%3 == 0:\n",
    "    print(n,\"is divisible by both 2 and 3\")\n",
    "elif n%2 == 0:\n",
    "    print(n,\"is divisible by 2\")\n",
    "elif n%3 == 0:\n",
    "    print(n,\"is divisible by 3\")\n",
    "else: print('The number is divisible by neither')"
   ]
  },
  {
   "cell_type": "code",
   "execution_count": null,
   "id": "3b216886",
   "metadata": {},
   "outputs": [],
   "source": [
    "# Python Program for two given numbers and find which is greater or smaller than other\n",
    "\n",
    "n1 = int(input(\"Enter the first number : \"))\n",
    "n2 = int(input(\"Enter the second number : \"))\n",
    "if n1 > n2:\n",
    "    print(n1,\"is greater than\",n2)\n",
    "else:\n",
    "    print(n2,\"is greater than\",n1)"
   ]
  },
  {
   "cell_type": "code",
   "execution_count": 14,
   "id": "2ec58cf0",
   "metadata": {},
   "outputs": [
    {
     "name": "stdout",
     "output_type": "stream",
     "text": [
      "Enter the temperature : 76\n",
      "Stay home!\n"
     ]
    }
   ],
   "source": [
    "# Python Program to know and decide by looking at weather for tomorrow is cold, warm, very hot or else to stay home\n",
    "\n",
    "t = float(input('Enter the temperature : '))\n",
    "if t <= 20:\n",
    "    print(\"The weather is cold\")\n",
    "elif t <= 30:\n",
    "    print(\"The weather is warm\")\n",
    "elif t <= 45:\n",
    "    print(\"The weather is very hot\")\n",
    "else:\n",
    "    print(\"Stay home!\")\n"
   ]
  },
  {
   "cell_type": "code",
   "execution_count": 15,
   "id": "6fb69b88",
   "metadata": {},
   "outputs": [
    {
     "name": "stdout",
     "output_type": "stream",
     "text": [
      "Enter the first number : 5\n",
      "Enter the second number : 6\n",
      "0.8333333333333334\n"
     ]
    }
   ],
   "source": [
    "# Python Program for division of two numbers\n",
    "\n",
    "n1 = int(input(\"Enter the first number : \"))\n",
    "n2 = int(input(\"Enter the second number : \"))\n",
    "print(n1/n2)"
   ]
  },
  {
   "cell_type": "code",
   "execution_count": 8,
   "id": "e2b100af",
   "metadata": {},
   "outputs": [
    {
     "name": "stdout",
     "output_type": "stream",
     "text": [
      "Enter the value of a : -3\n",
      "Enter the value of b : -2\n",
      "Enter the value of c : -1\n",
      "(-0.3333333333333333-0.47140452079103173j) or (-0.3333333333333333+0.47140452079103173j)\n"
     ]
    }
   ],
   "source": [
    "# Python Program to solve Quadratic Equation ax2 + bx + c = 0 where a, b, c are real numbers and a≠0\n",
    "\n",
    "a = int(input(\"Enter the value of a : \"))\n",
    "b = int(input(\"Enter the value of b : \"))\n",
    "c = int(input(\"Enter the value of c : \"))\n",
    "x1 = (-b + (b**2 - 4*a*c)**0.5)/(2*a) \n",
    "x2 = (-b - (b**2 - 4*a*c)**0.5)/(2*a)\n",
    "print(x1, 'or' , x2)"
   ]
  },
  {
   "cell_type": "code",
   "execution_count": 9,
   "id": "6428a275",
   "metadata": {},
   "outputs": [
    {
     "name": "stdout",
     "output_type": "stream",
     "text": [
      "Enter the number : 0\n",
      "0 is neither positive nor negative.\n"
     ]
    }
   ],
   "source": [
    "# Python Program to check a number is positive, negative or zero\n",
    "\n",
    "n = int(input('Enter the number : '))\n",
    "if n > 0:\n",
    "    print(n,'is a positive number.')\n",
    "elif n < 0:\n",
    "    print(n,'is a negative number.')\n",
    "else:\n",
    "    print(n,'is neither positive nor negative.')"
   ]
  },
  {
   "cell_type": "code",
   "execution_count": 11,
   "id": "c8510a69",
   "metadata": {},
   "outputs": [
    {
     "name": "stdout",
     "output_type": "stream",
     "text": [
      "Enter the year : 2023\n",
      "2023 is not a leap year.\n"
     ]
    }
   ],
   "source": [
    "# Python Program to check Leap Year\n",
    "\n",
    "year = int(input('Enter the year : '))\n",
    "if year % 4 == 0 or year % 100 == 0:\n",
    "    print(year,'is a leap year.')\n",
    "else:\n",
    "    print(year,'is not a leap year.')"
   ]
  },
  {
   "cell_type": "code",
   "execution_count": 1,
   "id": "2bf701ef",
   "metadata": {},
   "outputs": [
    {
     "name": "stdout",
     "output_type": "stream",
     "text": [
      "Enter the number : 5\n",
      "5 is a prime number\n"
     ]
    }
   ],
   "source": [
    "# Python Program to check Prime Number\n",
    "\n",
    "n = int(input('Enter the number : '))\n",
    "if n == 1:\n",
    "    print(f\"{n} is not a prime number\")\n",
    "elif n > 1:\n",
    "    for i in range(2, n):\n",
    "        if (n % i) == 0:\n",
    "            print(f\"{n} is not a prime number\")\n",
    "            break\n",
    "    else:\n",
    "        print(f\"{n} is a prime number\")\n",
    "else:\n",
    "    print(f\"{n} is not a prime number\")"
   ]
  },
  {
   "cell_type": "code",
   "execution_count": 19,
   "id": "2c982202",
   "metadata": {},
   "outputs": [
    {
     "name": "stdout",
     "output_type": "stream",
     "text": [
      "Enter the number : 5\n",
      "The factorial of 5 is 120\n"
     ]
    }
   ],
   "source": [
    "# Python Program to find Factorial of a Number\n",
    "\n",
    "n = int(input('Enter the number : '))\n",
    "factorial = 1\n",
    "if n < 0:\n",
    "    print(\"Factorial does not exist for negative numbers\")\n",
    "elif n == 0:\n",
    "    print(\"The factorial of 0 is 1\")\n",
    "else:\n",
    "    for i in range(1,n + 1):\n",
    "        factorial = factorial*i\n",
    "    print(\"The factorial of\",n,\"is\",factorial)"
   ]
  },
  {
   "cell_type": "code",
   "execution_count": 2,
   "id": "042dfd32",
   "metadata": {},
   "outputs": [
    {
     "name": "stdout",
     "output_type": "stream",
     "text": [
      "Enter the number of terms : 4\n",
      "0\n",
      "1\n",
      "1\n",
      "2\n"
     ]
    }
   ],
   "source": [
    "# Python Program to print Fibonacci Sequence\n",
    "\n",
    "n = int(input('Enter the number of terms : '))\n",
    "a = 0\n",
    "b = 1\n",
    "print(a)\n",
    "print(b)\n",
    "\n",
    "for i in range(2,n):\n",
    "    c = a + b\n",
    "    a = b\n",
    "    b = c\n",
    "    print(c)"
   ]
  },
  {
   "cell_type": "code",
   "execution_count": 1,
   "id": "e9e01037",
   "metadata": {},
   "outputs": [
    {
     "name": "stdout",
     "output_type": "stream",
     "text": [
      "Enter a number: 153\n",
      "153 is an Armstrong number\n"
     ]
    }
   ],
   "source": [
    "# Python Program to check Armstrong Number\n",
    "\n",
    "num = int(input(\"Enter a number: \"))\n",
    "sum = 0\n",
    "\n",
    "temp = num\n",
    "while temp > 0:\n",
    "    digit = temp % 10\n",
    "    sum += digit ** 3\n",
    "    temp //= 10\n",
    "\n",
    "if num == sum:\n",
    "    print(num, \"is an Armstrong number\")\n",
    "else:\n",
    "    print(num, \"is not an Armstrong number\")"
   ]
  },
  {
   "cell_type": "code",
   "execution_count": 2,
   "id": "faa813f0",
   "metadata": {},
   "outputs": [
    {
     "name": "stdout",
     "output_type": "stream",
     "text": [
      "Enter the first number : 4\n",
      "Enter the second number : 5\n"
     ]
    },
    {
     "data": {
      "text/plain": [
       "20"
      ]
     },
     "execution_count": 2,
     "metadata": {},
     "output_type": "execute_result"
    }
   ],
   "source": [
    "# Python Program to find LCM (Least Common Multiple)\n",
    "\n",
    "import numpy as np \n",
    "a = int(input('Enter the first number : '))\n",
    "b = int(input('Enter the second number : '))\n",
    "np.lcm(a,b)"
   ]
  },
  {
   "cell_type": "code",
   "execution_count": 4,
   "id": "18843933",
   "metadata": {},
   "outputs": [
    {
     "name": "stdout",
     "output_type": "stream",
     "text": [
      "Enter the first number : 10\n",
      "Enter the second number : 20\n"
     ]
    },
    {
     "data": {
      "text/plain": [
       "10"
      ]
     },
     "execution_count": 4,
     "metadata": {},
     "output_type": "execute_result"
    }
   ],
   "source": [
    "# Python Program to find HCF (Highest Common Factor)\n",
    "\n",
    "import numpy as np\n",
    "a = int(input('Enter the first number : '))\n",
    "b = int(input('Enter the second number : '))\n",
    "np.gcd(a,b)"
   ]
  },
  {
   "cell_type": "markdown",
   "id": "a10c85be",
   "metadata": {},
   "source": []
  }
 ],
 "metadata": {
  "kernelspec": {
   "display_name": "Python 3 (ipykernel)",
   "language": "python",
   "name": "python3"
  },
  "language_info": {
   "codemirror_mode": {
    "name": "ipython",
    "version": 3
   },
   "file_extension": ".py",
   "mimetype": "text/x-python",
   "name": "python",
   "nbconvert_exporter": "python",
   "pygments_lexer": "ipython3",
   "version": "3.10.9"
  }
 },
 "nbformat": 4,
 "nbformat_minor": 5
}
